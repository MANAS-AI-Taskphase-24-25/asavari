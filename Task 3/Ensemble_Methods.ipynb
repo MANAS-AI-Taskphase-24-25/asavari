{
 "cells": [
  {
   "cell_type": "code",
   "execution_count": 2,
   "id": "78319794-d0c1-4613-9d48-baf445cc8f33",
   "metadata": {},
   "outputs": [],
   "source": [
    "import pandas as pd\n",
    "from sklearn.model_selection import train_test_split, cross_val_score\n",
    "from sklearn.preprocessing import LabelEncoder\n",
    "from sklearn.tree import DecisionTreeClassifier\n",
    "from sklearn.ensemble import BaggingClassifier, AdaBoostClassifier\n",
    "from sklearn.metrics import (roc_auc_score, f1_score, matthews_corrcoef, recall_score)\n",
    "from imblearn.over_sampling import SMOTE\n",
    "import matplotlib.pyplot as plt"
   ]
  },
  {
   "cell_type": "code",
   "execution_count": 3,
   "id": "12f4e3ce-8ed8-4899-a34d-722488b4812c",
   "metadata": {},
   "outputs": [],
   "source": [
    "data = pd.read_csv('/home/asavari/Downloads/Threats (1).csv')"
   ]
  },
  {
   "cell_type": "code",
   "execution_count": 4,
   "id": "2f09633f-7a2a-4f29-910f-57f8240c6e6d",
   "metadata": {},
   "outputs": [
    {
     "name": "stdout",
     "output_type": "stream",
     "text": [
      "Classes in target variable: ['Analysis' 'Backdoor' 'DoS' 'Exploits' 'Fuzzers' 'Generic' 'Normal'\n",
      " 'Reconnaissance' 'Shellcode' 'Worms']\n"
     ]
    }
   ],
   "source": [
    "data_cleaned = data.drop(columns=['id'], errors='ignore')\n",
    "label_encoder = LabelEncoder()\n",
    "data_cleaned['attack_cat_encoded'] = label_encoder.fit_transform(data_cleaned['attack_cat'])\n",
    "data_cleaned = data_cleaned.drop(columns=['attack_cat'], errors='ignore')\n",
    "\n",
    "X = data_cleaned.drop(columns=['attack_cat_encoded'], errors='ignore')\n",
    "y = data_cleaned['attack_cat_encoded']\n",
    "\n",
    "print(\"Classes in target variable:\", label_encoder.classes_)"
   ]
  },
  {
   "cell_type": "code",
   "execution_count": 5,
   "id": "afdb4ab1-d668-4263-90d3-f24113318bf9",
   "metadata": {},
   "outputs": [],
   "source": [
    "X = X.fillna(0)\n",
    "categorical_columns = X.select_dtypes(include=['object']).columns\n",
    "X = X.drop(columns=[col for col in categorical_columns if X[col].nunique() > 20], errors='ignore')"
   ]
  },
  {
   "cell_type": "code",
   "execution_count": 6,
   "id": "db8c0574-a45e-4cce-9695-3e22c6025b36",
   "metadata": {},
   "outputs": [],
   "source": [
    "X_encoded = pd.get_dummies(X, columns=X.select_dtypes(include=['object']).columns)\n",
    "\n",
    "smote = SMOTE(random_state=42, sampling_strategy='auto') \n",
    "X_resampled, y_resampled = smote.fit_resample(X_encoded, y)"
   ]
  },
  {
   "cell_type": "code",
   "execution_count": 7,
   "id": "7e9e2155-4b2f-4806-bd98-f1893f3657ac",
   "metadata": {},
   "outputs": [],
   "source": [
    "X_train, X_test, y_train, y_test = train_test_split(X_resampled, y_resampled, test_size=0.2, random_state=42)"
   ]
  },
  {
   "cell_type": "code",
   "execution_count": 8,
   "id": "7f071c01-7b78-4146-9b23-769db87a4ce9",
   "metadata": {},
   "outputs": [],
   "source": [
    "# bagging \n",
    "base_tree = DecisionTreeClassifier(random_state=42, class_weight='balanced', max_depth=8, min_samples_split=20)\n",
    "bagging_model = BaggingClassifier(estimator=base_tree, n_estimators=25, n_jobs=-1, random_state=42)\n",
    "bagging_model.fit(X_train, y_train)\n",
    "y_pred_bag = bagging_model.predict(X_test)"
   ]
  },
  {
   "cell_type": "code",
   "execution_count": 9,
   "id": "90904876-1285-4c52-8e2f-54ae872d2dc3",
   "metadata": {},
   "outputs": [
    {
     "name": "stdout",
     "output_type": "stream",
     "text": [
      "\n",
      "Bagging Classifier Performance: \n",
      "F1 Score: 0.6932714182681371\n",
      "Recall Rate: 0.7048875\n",
      "MCC: 0.6843917371987307\n",
      "AUC: 0.9428096508768329\n",
      "Mean CV F1 Score: 0.6551834080921956\n"
     ]
    }
   ],
   "source": [
    "print(\"\\nBagging Classifier Performance: \")\n",
    "print(\"F1 Score:\", f1_score(y_test, y_pred_bag, average=\"weighted\"))\n",
    "print(\"Recall Rate:\", recall_score(y_test, y_pred_bag, average=\"weighted\"))\n",
    "print(\"MCC:\", matthews_corrcoef(y_test, y_pred_bag))\n",
    "print(\"AUC:\", roc_auc_score(y_test, bagging_model.predict_proba(X_test), multi_class=\"ovr\"))\n",
    "cv_scores_bag = cross_val_score(bagging_model, X_resampled, y_resampled, cv=3, scoring='f1_weighted')\n",
    "print(\"Mean CV F1 Score:\", cv_scores_bag.mean())"
   ]
  },
  {
   "cell_type": "code",
   "execution_count": 10,
   "id": "47026079-bcb9-453d-a0c1-76ff6efbb969",
   "metadata": {},
   "outputs": [],
   "source": [
    "# boosting\n",
    "boosting_model = AdaBoostClassifier(estimator=base_tree, n_estimators=25, algorithm='SAMME',random_state=42)\n",
    "boosting_model.fit(X_train, y_train)\n",
    "y_pred_boost = boosting_model.predict(X_test)"
   ]
  },
  {
   "cell_type": "code",
   "execution_count": 11,
   "id": "ebdda2b0-9013-412e-9896-9a2aad6d61bc",
   "metadata": {},
   "outputs": [
    {
     "name": "stdout",
     "output_type": "stream",
     "text": [
      "\n",
      "Boosting Classifier Performance: \n",
      "F1 Score: 0.7494291766866138\n",
      "Recall Rate: 0.7412\n",
      "MCC: 0.715369992814789\n",
      "AUC: 0.9419260310889885\n",
      "Mean CV F1 Score: 0.702493375964306\n"
     ]
    }
   ],
   "source": [
    "print(\"\\nBoosting Classifier Performance: \")\n",
    "print(\"F1 Score:\", f1_score(y_test, y_pred_boost, average=\"weighted\"))\n",
    "print(\"Recall Rate:\", recall_score(y_test, y_pred_boost, average=\"weighted\"))\n",
    "print(\"MCC:\", matthews_corrcoef(y_test, y_pred_boost))\n",
    "print(\"AUC:\", roc_auc_score(y_test, boosting_model.predict_proba(X_test), multi_class=\"ovr\"))\n",
    "cv_scores_boost = cross_val_score(boosting_model, X_resampled, y_resampled, cv=3, scoring='f1_weighted')\n",
    "print(\"Mean CV F1 Score:\", cv_scores_boost.mean())"
   ]
  },
  {
   "cell_type": "code",
   "execution_count": null,
   "id": "9a2f2635-e4fc-4a3a-a8c0-7d39783cef24",
   "metadata": {},
   "outputs": [],
   "source": []
  }
 ],
 "metadata": {
  "kernelspec": {
   "display_name": "Python 3 (ipykernel)",
   "language": "python",
   "name": "python3"
  },
  "language_info": {
   "codemirror_mode": {
    "name": "ipython",
    "version": 3
   },
   "file_extension": ".py",
   "mimetype": "text/x-python",
   "name": "python",
   "nbconvert_exporter": "python",
   "pygments_lexer": "ipython3",
   "version": "3.10.12"
  }
 },
 "nbformat": 4,
 "nbformat_minor": 5
}
